{
 "cells": [
  {
   "cell_type": "code",
   "execution_count": 1,
   "metadata": {},
   "outputs": [
    {
     "name": "stderr",
     "output_type": "stream",
     "text": [
      "/home/kys/.local/lib/python3.10/site-packages/tqdm/auto.py:22: TqdmWarning: IProgress not found. Please update jupyter and ipywidgets. See https://ipywidgets.readthedocs.io/en/stable/user_install.html\n",
      "  from .autonotebook import tqdm as notebook_tqdm\n",
      "2023-02-22 08:26:49.361310: I tensorflow/core/platform/cpu_feature_guard.cc:193] This TensorFlow binary is optimized with oneAPI Deep Neural Network Library (oneDNN) to use the following CPU instructions in performance-critical operations:  SSE3 SSE4.1 SSE4.2 AVX AVX2 FMA\n",
      "To enable them in other operations, rebuild TensorFlow with the appropriate compiler flags.\n"
     ]
    }
   ],
   "source": [
    "import json\n",
    "from dl import ComicTextDetector, MangaOCR, LamaInpainterMPE, SugoiTranslator\n",
    "from utils.io_utils import imread, imwrite, NumpyEncoder\n",
    "import os\n",
    "from pathlib import Path\n",
    "\n",
    "test_img = r'data/testpacks/custom/07.png'\n",
    "image_path = Path(test_img).expanduser().absolute()\n",
    "img = imread(image_path)\n",
    "\n",
    "test_dir = image_path.parent\n",
    "\n",
    "mask_dir = os.path.join(test_dir, 'mask')\n",
    "os.makedirs(mask_dir, exist_ok=True)\n",
    "\n",
    "ocr_dir = os.path.join(test_dir, 'ocr_test')\n",
    "os.makedirs(ocr_dir, exist_ok=True)\n",
    "\n",
    "inpaint_dir = os.path.join(test_dir, 'inpainted')\n",
    "os.makedirs(inpaint_dir, exist_ok=True)\n",
    "\n",
    "ctd = ComicTextDetector()\n",
    "\n",
    "\n",
    "def mangaocr(img, blk_list):\n",
    "    ocr = MangaOCR()\n",
    "    blk_list = ocr.run_ocr(img, blk_list)\n",
    "    return blk_list\n",
    "\n",
    "\n",
    "def inpaint_lama_mpe(img, mask, blk_list=None, inpaint_by_block=True):\n",
    "    inpainter = LamaInpainterMPE()\n",
    "    inpainter.inpaint_by_block = inpaint_by_block\n",
    "    inpainted = inpainter.inpaint(img, mask, blk_list)\n",
    "    # imwrite(inpaint_dir + '/' + image_path.name, inpainted)\n",
    "    return inpainted\n",
    "\n",
    "\n",
    "def sugoi_translate(text):\n",
    "    translator = SugoiTranslator('日本語', 'English')\n",
    "    translation = translator.translate(text)\n",
    "    print(f'src: {text}, translation: {translation}')\n",
    "\n",
    "\n",
    "mask, blk_list = ctd.detect(img)\n",
    "blk_list = mangaocr(img, blk_list)\n",
    "# inpainted = inpaint_lama_mpe(img, mask, blk_list)\n",
    "# imwrite(mask_dir + '/' + image_path.name, mask)\n",
    "# imwrite(inpaint_dir + '/' + image_path.name, inpainted)\n",
    "\n",
    "# not working yet\n",
    "# with open(image_path.with_suffix('.json'), 'w', encoding='utf-8') as f:\n",
    "# f.write(json.dumps(blk_list, ensure_ascii=False, cls=NumpyEncoder))\n",
    "\n",
    "\n",
    "# json.dumps(blk_list[0].__dict__, ensure_ascii=False, cls=NumpyEncoder)\n"
   ]
  },
  {
   "cell_type": "code",
   "execution_count": 2,
   "metadata": {},
   "outputs": [],
   "source": [
    "translator = SugoiTranslator('日本語', 'English')\n"
   ]
  },
  {
   "cell_type": "code",
   "execution_count": 4,
   "metadata": {},
   "outputs": [],
   "source": [
    "blk_list = translator.translate_textblk_lst(blk_list)"
   ]
  },
  {
   "cell_type": "code",
   "execution_count": 2,
   "metadata": {},
   "outputs": [
    {
     "data": {
      "text/plain": [
       "[57, 1015, 164, 1315]"
      ]
     },
     "execution_count": 2,
     "metadata": {},
     "output_type": "execute_result"
    }
   ],
   "source": [
    "blk_list[3].xyxy"
   ]
  },
  {
   "cell_type": "code",
   "execution_count": 5,
   "metadata": {},
   "outputs": [],
   "source": [
    "H, W, *_ = img.shape\n",
    "result = {'img_width': W,\n",
    "          'img_height': H, \n",
    "          'blocks': []\n",
    "          }\n",
    "\n",
    "for blk in blk_list:\n",
    "    result_blk = {\n",
    "        'text_box': blk.xyxy,\n",
    "        'text_ocr': blk.text,\n",
    "        'text_tl': blk.translation,\n",
    "        'font_size': blk.font_size,\n",
    "    }\n",
    "    result['blocks'].append(result_blk)\n",
    "\n"
   ]
  },
  {
   "cell_type": "code",
   "execution_count": 6,
   "metadata": {},
   "outputs": [
    {
     "data": {
      "text/plain": [
       "{'img_width': 960,\n",
       " 'img_height': 1361,\n",
       " 'blocks': [{'text_box': [731, 86, 805, 239],\n",
       "   'text_ocr': 'おい！古屋晴久！',\n",
       "   'text_tl': ' Hey! Haruhisa Furuya!',\n",
       "   'font_size': 31},\n",
       "  {'text_box': [417, 400, 519, 580],\n",
       "   'text_ocr': '桜！',\n",
       "   'text_tl': ' Sakura!',\n",
       "   'font_size': 97},\n",
       "  {'text_box': [740, 1035, 814, 1277],\n",
       "   'text_ocr': '昨日連絡した通り来てやったわよ。',\n",
       "   'text_tl': ' I contacted you yesterday. I came through.',\n",
       "   'font_size': 30},\n",
       "  {'text_box': [57, 1015, 164, 1315],\n",
       "   'text_ocr': 'あんたの監視役としてね。',\n",
       "   'text_tl': ' As your watcher.',\n",
       "   'font_size': 43}]}"
      ]
     },
     "execution_count": 6,
     "metadata": {},
     "output_type": "execute_result"
    }
   ],
   "source": [
    "result"
   ]
  },
  {
   "cell_type": "code",
   "execution_count": 10,
   "metadata": {},
   "outputs": [],
   "source": [
    "from utils.json_writer import dump_json\n",
    "dump_json(result, image_path.with_suffix('.json'))\n"
   ]
  },
  {
   "cell_type": "code",
   "execution_count": null,
   "metadata": {},
   "outputs": [],
   "source": []
  }
 ],
 "metadata": {
  "kernelspec": {
   "display_name": "Python 3",
   "language": "python",
   "name": "python3"
  },
  "language_info": {
   "codemirror_mode": {
    "name": "ipython",
    "version": 3
   },
   "file_extension": ".py",
   "mimetype": "text/x-python",
   "name": "python",
   "nbconvert_exporter": "python",
   "pygments_lexer": "ipython3",
   "version": "3.10.9 (main, Dec 19 2022, 17:35:49) [GCC 12.2.0]"
  },
  "orig_nbformat": 4,
  "vscode": {
   "interpreter": {
    "hash": "4e1d9a8909477db77738c33245c29c7265277ef753467dede8cf3f814cde494e"
   }
  }
 },
 "nbformat": 4,
 "nbformat_minor": 2
}
