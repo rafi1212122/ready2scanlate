{
 "cells": [
  {
   "cell_type": "code",
   "execution_count": 1,
   "metadata": {},
   "outputs": [],
   "source": [
    "import argparse\n",
    "from utils.json_writer import JsonOcr, write_json\n",
    "\n",
    "ocr_model = 'models/manga-ocr-base'\n",
    "detector_model = 'models/comictextdetector.pt'"
   ]
  },
  {
   "cell_type": "code",
   "execution_count": 8,
   "metadata": {},
   "outputs": [
    {
     "ename": "",
     "evalue": "",
     "output_type": "error",
     "traceback": [
      "\u001b[1;31mThe Kernel crashed while executing code in the the current cell or a previous cell. Please review the code in the cell(s) to identify a possible cause of the failure. Click <a href='https://aka.ms/vscodeJupyterKernelCrash'>here</a> for more info. View Jupyter <a href='command:jupyter.viewOutput'>log</a> for further details."
     ]
    }
   ],
   "source": [
    "json_ocr = JsonOcr(ocr_model, detector_model)"
   ]
  },
  {
   "cell_type": "code",
   "execution_count": 7,
   "metadata": {},
   "outputs": [],
   "source": [
    "input = 'E:\\Scanlation Project\\You, the One Sitting Next to Me, Are the Cutest\\\\37\\RAW\\89395962_p8.jpg'\n",
    "output = './results'\n",
    "write_json(input, json_ocr, output)"
   ]
  }
 ],
 "metadata": {
  "kernelspec": {
   "display_name": "Python 3",
   "language": "python",
   "name": "python3"
  },
  "language_info": {
   "codemirror_mode": {
    "name": "ipython",
    "version": 3
   },
   "file_extension": ".py",
   "mimetype": "text/x-python",
   "name": "python",
   "nbconvert_exporter": "python",
   "pygments_lexer": "ipython3",
   "version": "3.10.10"
  },
  "orig_nbformat": 4,
  "vscode": {
   "interpreter": {
    "hash": "87ff2fd2f630942d9dfca8596f11257cb16c60e88d73b7ab1de9f45e2c1b86a7"
   }
  }
 },
 "nbformat": 4,
 "nbformat_minor": 2
}
